{
  "nbformat": 4,
  "nbformat_minor": 0,
  "metadata": {
    "colab": {
      "name": "GA_phrase.ipynb",
      "provenance": []
    },
    "kernelspec": {
      "name": "python3",
      "display_name": "Python 3"
    }
  },
  "cells": [
    {
      "cell_type": "markdown",
      "metadata": {
        "id": "5XOsIwdDF-Y2",
        "colab_type": "text"
      },
      "source": [
        "#Code is used for the Shakespeare example\n",
        "This was made on Google Colab. [Here's a link to it](https://drive.google.com/file/d/1UmXWg8RFT8Eqsb7atAUrgBpREZPALKnQ/view?usp=sharing)"
      ]
    },
    {
      "cell_type": "markdown",
      "metadata": {
        "id": "av_WMQckGHWI",
        "colab_type": "text"
      },
      "source": [
        "# Functions"
      ]
    },
    {
      "cell_type": "code",
      "metadata": {
        "id": "Z5XXWcgp1heG",
        "colab_type": "code",
        "colab": {}
      },
      "source": [
        "def make_initial_population():\n",
        "  population = []\n",
        "  for i in range(population_size):\n",
        "    gene = ''\n",
        "    for j in range(len(target)):\n",
        "      gene += random.choice(letters)\n",
        "    \n",
        "    population.append(gene)\n",
        "    \n",
        "  return population"
      ],
      "execution_count": 0,
      "outputs": []
    },
    {
      "cell_type": "code",
      "metadata": {
        "id": "1U4qv-und58-",
        "colab_type": "code",
        "colab": {}
      },
      "source": [
        "def step_score(score):\n",
        "  if score == len(target):\n",
        "    return score\n",
        "  else:\n",
        "    return (score//step)*step"
      ],
      "execution_count": 0,
      "outputs": []
    },
    {
      "cell_type": "code",
      "metadata": {
        "id": "kPsjc7hmotJs",
        "colab_type": "code",
        "colab": {}
      },
      "source": [
        "def calculate_scores(population):\n",
        "  score = calculate_scoresx(population,target)\n",
        "  return list(np.array(score))\n",
        "  "
      ],
      "execution_count": 0,
      "outputs": []
    },
    {
      "cell_type": "code",
      "metadata": {
        "id": "nbuxvrzPpTIN",
        "colab_type": "code",
        "colab": {}
      },
      "source": [
        "def calculate_scoresx(population,target):\n",
        "  scores = []\n",
        "  for gene in population:\n",
        "    score = 0\n",
        "    for gene_letter,target_letter in zip(gene,target):\n",
        "      if gene_letter == target_letter:\n",
        "        score += 1\n",
        "    if(step > 1): score = step_score(score)\n",
        "    scores.append(score)\n",
        "\n",
        "  return scores"
      ],
      "execution_count": 0,
      "outputs": []
    },
    {
      "cell_type": "code",
      "metadata": {
        "id": "OGNeZNE54l8n",
        "colab_type": "code",
        "colab": {}
      },
      "source": [
        "def calculate_normalized_fitness(scores):\n",
        "  sum_scores = sum(scores)\n",
        "  if sum_scores > 0:\n",
        "    normalized_fitness = [score/sum_scores for score in scores]\n",
        "  else:\n",
        "    normalized_fitness = len(scores)*[1/len(scores)]\n",
        "\n",
        "  return normalized_fitness"
      ],
      "execution_count": 0,
      "outputs": []
    },
    {
      "cell_type": "code",
      "metadata": {
        "id": "YroUmivf9foC",
        "colab_type": "code",
        "colab": {}
      },
      "source": [
        "def make_mating_pool(population,fitness):\n",
        "  mating_pool = []\n",
        "  for gene,prob in zip(population,fitness):\n",
        "    mating_pool += prob*[gene]\n",
        "    \n",
        "  return mating_pool"
      ],
      "execution_count": 0,
      "outputs": []
    },
    {
      "cell_type": "code",
      "metadata": {
        "id": "3D8g6jpiD9Wk",
        "colab_type": "code",
        "colab": {}
      },
      "source": [
        "def crossover(parent_A,parent_B):\n",
        "  cut = random.randint(1,len(parent_A)-1)\n",
        "  child = parent_A[:cut] + parent_B[cut:]\n",
        "  \n",
        "  return child"
      ],
      "execution_count": 0,
      "outputs": []
    },
    {
      "cell_type": "code",
      "metadata": {
        "id": "T2s89h3HGPOi",
        "colab_type": "code",
        "colab": {}
      },
      "source": [
        "def mutate(child,mutation_rate):\n",
        "  mutated_child = child\n",
        "  if random.random() < mutation_rate:\n",
        "    temp = list(child)\n",
        "    x = random.randint(0, len(child)-1)\n",
        "    temp[x] = random.choice(letters)\n",
        "    mutated_child = \"\".join(temp)\n",
        "    \n",
        "  return mutated_child  "
      ],
      "execution_count": 0,
      "outputs": []
    },
    {
      "cell_type": "code",
      "metadata": {
        "id": "5fhQkUmx_B2O",
        "colab_type": "code",
        "colab": {}
      },
      "source": [
        "def reproduce(population, fitness, mutation_rate):\n",
        "  new_population = []\n",
        "  while len(new_population) < len(population):\n",
        "    parent_A = np.random.choice(population, p=fitness)\n",
        "    parent_B = np.random.choice(population, p=fitness)\n",
        "    new_child = crossover(parent_A,parent_B)\n",
        "    if new_child != None:\n",
        "      new_child = mutate(new_child,mutation_rate)\n",
        "      if new_child != None:\n",
        "        new_population.append(new_child)\n",
        "\n",
        "  return new_population"
      ],
      "execution_count": 0,
      "outputs": []
    },
    {
      "cell_type": "code",
      "metadata": {
        "id": "GfKixIiGLhyI",
        "colab_type": "code",
        "colab": {}
      },
      "source": [
        "def find_best_child(population):\n",
        "  fitness = calculate_normalized_fitness(population,target)\n",
        "  max_fitness = 0\n",
        "  for child,score in zip(population,fitness):\n",
        "    if score > max_fitness:\n",
        "      best_child = child\n",
        "      \n",
        "  return best_child"
      ],
      "execution_count": 0,
      "outputs": []
    },
    {
      "cell_type": "code",
      "metadata": {
        "id": "AGI3nYmgH-RX",
        "colab_type": "code",
        "colab": {}
      },
      "source": [
        "def write_pop(gen,population, scores, normalized_fitness):\n",
        "  for gene, score, fitness in zip(population, scores, normalized_fitness):\n",
        "     f.write(','.join(['pop',str(gen),gene, str(score), str(fitness)+'\\n']))"
      ],
      "execution_count": 0,
      "outputs": []
    },
    {
      "cell_type": "code",
      "metadata": {
        "id": "SGC_fuSAOPX2",
        "colab_type": "code",
        "colab": {}
      },
      "source": [
        "def sanitize(population, scores):\n",
        "  if prune_population:\n",
        "    population_tuples = []\n",
        "    gene_list = []\n",
        "    population_tuples = []\n",
        "    for score, gene in zip(scores,population):\n",
        "      if gene not in gene_list:\n",
        "        gene_list.append(gene)\n",
        "        population_tuples.append((score, gene))\n",
        "  else:\n",
        "    population_tuples = list(zip(scores,population))\n",
        "\n",
        "  population_tuples = sorted(population_tuples, key=lambda x: x[0], reverse=True)[:population_size]\n",
        "  new_population = [t[1] for t in population_tuples]\n",
        "  new_scores = [t[0] for t in population_tuples]\n",
        "\n",
        "  return new_population, new_scores"
      ],
      "execution_count": 0,
      "outputs": []
    },
    {
      "cell_type": "markdown",
      "metadata": {
        "id": "snFWOuQ8GTDi",
        "colab_type": "text"
      },
      "source": [
        "#Code"
      ]
    },
    {
      "cell_type": "code",
      "metadata": {
        "id": "iUSNjJXqDMsk",
        "colab_type": "code",
        "colab": {}
      },
      "source": [
        "import numpy as np\n",
        "import random\n",
        "from collections import defaultdict\n",
        "import matplotlib.pyplot as plt\n",
        "\n",
        "target =  'to be or not to be that is the question'\n",
        "#target = 'to be or not to be that is the question whether it is nobler in' #For Figure S2\n",
        "\n",
        "letters = [' ', 'a', 'b', 'c', 'd', 'e', 'f', 'g', 'h', 'i', 'j', 'k', 'l', 'm', 'n', 'o', 'p', 'q', 'r', 's', 't', 'u', 'v', 'w', 'x', 'y', 'z']\n",
        "\n",
        "population_size = 100\n",
        "generations = 1000\n",
        "mutation_rate = 0.2\n",
        "max_score = len(target) \n",
        "prune_population = True\n",
        "tries = 10\n",
        "\n",
        "step = 1 #change to 2 or 5 for Figure S1\n",
        "\n",
        "best_score_lists = []\n",
        "for tr in range(tries):\n",
        "  max_score_list = []\n",
        "\n",
        "  population = make_initial_population()\n",
        "  scores = calculate_scores(population)\n",
        "  population_tuples = sorted(list(zip(scores,population)), key=lambda x: x[0], reverse=True)\n",
        "  population = [t[1] for t in population_tuples]\n",
        "  scores = [t[0] for t in population_tuples]\n",
        "  fitness = calculate_normalized_fitness(scores)\n",
        "\n",
        "  max_score_list.append(scores[0])\n",
        "  \n",
        "  for generation in range(generations):\n",
        "    new_population = reproduce(population, fitness, mutation_rate)\n",
        "    new_scores = calculate_scores(new_population)\n",
        "    population, scores = sanitize(population+new_population, scores+new_scores)  \n",
        "    fitness = calculate_normalized_fitness(scores)\n",
        "    max_score_list.append(scores[0])\n",
        "    if scores[0] == max_score:\n",
        "      break\n",
        "\n",
        "  best_score_lists.append(max_score_list)\n"
      ],
      "execution_count": 0,
      "outputs": []
    },
    {
      "cell_type": "markdown",
      "metadata": {
        "id": "5MuiCG9TLcQy",
        "colab_type": "text"
      },
      "source": [
        "#Figure 1 \n",
        "(will look a little different since it is a stochastic simulation)\n",
        "\n",
        "Also Figure S2 with longer target above\n"
      ]
    },
    {
      "cell_type": "code",
      "metadata": {
        "id": "_zTewpGsVb7x",
        "colab_type": "code",
        "outputId": "627325c6-2585-4dc7-8316-32abb0b9cf9f",
        "colab": {
          "base_uri": "https://localhost:8080/",
          "height": 279
        }
      },
      "source": [
        "for best_score_list in best_score_lists:\n",
        "  plt.plot(range(len(best_score_list)), best_score_list)\n",
        "\n",
        "#plt.title('step: '+str(step)+' prune: '+str(prune_population))\n",
        "plt.xlabel('Generation')\n",
        "plt.ylabel('Top Score')\n",
        "plt.savefig('phrase.png')"
      ],
      "execution_count": 15,
      "outputs": [
        {
          "output_type": "display_data",
          "data": {
            "image/png": "[encoded data removed]",
            "text/plain": [
              "<Figure size 432x288 with 1 Axes>"
            ]
          },
          "metadata": {
            "tags": [],
            "needs_background": "light"
          }
        }
      ]
    },
    {
      "cell_type": "markdown",
      "metadata": {
        "id": "c_oIuveVLhPe",
        "colab_type": "text"
      },
      "source": [
        "# Figure S1"
      ]
    },
    {
      "cell_type": "code",
      "metadata": {
        "id": "S4XZFZr5i9nm",
        "colab_type": "code",
        "colab": {}
      },
      "source": [
        "#Save data for Figure S2\n",
        "#Run first with step = 2, then with step = 5\n",
        "\n",
        "import pickle\n",
        "#pickle.dump(best_score_lists, open( \"step2.p\", \"wb\" ) )\n",
        "pickle.dump(best_score_lists, open( \"step5.p\", \"wb\" ) )"
      ],
      "execution_count": 0,
      "outputs": []
    },
    {
      "cell_type": "code",
      "metadata": {
        "id": "3BheKbdZi8AW",
        "colab_type": "code",
        "outputId": "93139979-cc4d-4016-9014-1f0a7d03f245",
        "colab": {
          "base_uri": "https://localhost:8080/",
          "height": 181
        }
      },
      "source": [
        "step2 = pickle.load( open( \"step2.p\", \"rb\" ) )\n",
        "step5 = pickle.load( open( \"step5.p\", \"rb\" ) )"
      ],
      "execution_count": 17,
      "outputs": [
        {
          "output_type": "error",
          "ename": "FileNotFoundError",
          "evalue": "ignored",
          "traceback": [
            "\u001b[0;31m---------------------------------------------------------------------------\u001b[0m",
            "\u001b[0;31mFileNotFoundError\u001b[0m                         Traceback (most recent call last)",
            "\u001b[0;32m<ipython-input-17-8941481a8515>\u001b[0m in \u001b[0;36m<module>\u001b[0;34m()\u001b[0m\n\u001b[0;32m----> 1\u001b[0;31m \u001b[0mstep2\u001b[0m \u001b[0;34m=\u001b[0m \u001b[0mpickle\u001b[0m\u001b[0;34m.\u001b[0m\u001b[0mload\u001b[0m\u001b[0;34m(\u001b[0m \u001b[0mopen\u001b[0m\u001b[0;34m(\u001b[0m \u001b[0;34m\"step2.p\"\u001b[0m\u001b[0;34m,\u001b[0m \u001b[0;34m\"rb\"\u001b[0m \u001b[0;34m)\u001b[0m \u001b[0;34m)\u001b[0m\u001b[0;34m\u001b[0m\u001b[0;34m\u001b[0m\u001b[0m\n\u001b[0m\u001b[1;32m      2\u001b[0m \u001b[0mstep5\u001b[0m \u001b[0;34m=\u001b[0m \u001b[0mpickle\u001b[0m\u001b[0;34m.\u001b[0m\u001b[0mload\u001b[0m\u001b[0;34m(\u001b[0m \u001b[0mopen\u001b[0m\u001b[0;34m(\u001b[0m \u001b[0;34m\"step5.p\"\u001b[0m\u001b[0;34m,\u001b[0m \u001b[0;34m\"rb\"\u001b[0m \u001b[0;34m)\u001b[0m \u001b[0;34m)\u001b[0m\u001b[0;34m\u001b[0m\u001b[0;34m\u001b[0m\u001b[0m\n",
            "\u001b[0;31mFileNotFoundError\u001b[0m: [Errno 2] No such file or directory: 'step2.p'"
          ]
        }
      ]
    },
    {
      "cell_type": "code",
      "metadata": {
        "id": "oQJNjE1cjr0l",
        "colab_type": "code",
        "colab": {}
      },
      "source": [
        "fig = plt.figure(figsize=(12, 3.5))\n",
        "\n",
        "plt.subplot(1, 2, 1)\n",
        "for score in step2:\n",
        "  plt.plot(range(len(score)), score)\n",
        "plt.title('Step: 2')\n",
        "plt.xlabel('Generation')\n",
        "plt.ylabel('Top Score')\n",
        "#plt.legend()\n",
        "plt.axis((0,1000,0,40.0))\n",
        "#found = [len(x) for x in celecoxib_score_list[0:tries] if len(x) != 1000]\n",
        "#plt.text(x, y, 'Success: '+str(round(len(found)/40,2))+median(found))\n",
        "left, bottom, width, height = [0.25, 0.2, 0.2, 0.4]\n",
        "ax2 = fig.add_axes([left, bottom, width, height])\n",
        "ax2.plot(range(39),[(x//2)*2 for x in range(39)], color='black')\n",
        "ax2.set_title('Score')\n",
        "\n",
        "plt.subplot(1, 2, 2)\n",
        "for score in step5:\n",
        "  plt.plot(range(len(score)), score)\n",
        "plt.title('Step: 5')\n",
        "plt.xlabel('Generation')\n",
        "#plt.ylabel('Top Score')\n",
        "plt.axis((0,1000,0,40.0))\n",
        "left, bottom, width, height = [0.67, 0.40, 0.2, 0.4]\n",
        "ax3 = fig.add_axes([left, bottom, width, height])\n",
        "ax3.plot(range(39),[(x//5)*5 for x in range(39)], color='black')\n",
        "ax3.set_title('Score')\n",
        "\n",
        "plt.savefig('step.png')"
      ],
      "execution_count": 0,
      "outputs": []
    },
    {
      "cell_type": "markdown",
      "metadata": {
        "id": "ueoedozilnGH",
        "colab_type": "text"
      },
      "source": [
        "#Number of sequences in initial population with at least one correctly placed character and number of positions correctly represented in at least one gene"
      ]
    },
    {
      "cell_type": "code",
      "metadata": {
        "id": "hCDaj2qYzIFY",
        "colab_type": "code",
        "colab": {}
      },
      "source": [
        "def found_char(population,target):\n",
        "  found = []\n",
        "  for i,char in enumerate(target):\n",
        "    for gene in population:\n",
        "      if char == gene[i]:\n",
        "        found.append(1)\n",
        "        break\n",
        "\n",
        "  return len(found)"
      ],
      "execution_count": 0,
      "outputs": []
    },
    {
      "cell_type": "code",
      "metadata": {
        "id": "jnIP3AWSl5Tp",
        "colab_type": "code",
        "outputId": "013dafb4-6fb7-475a-b515-fb57366d5662",
        "colab": {
          "base_uri": "https://localhost:8080/",
          "height": 51
        }
      },
      "source": [
        "target = 'to be or not to be that is the question'\n",
        "population_size = 100 \n",
        "step = 1\n",
        "\n",
        "non_zero = []\n",
        "found = []\n",
        "for i in range(1000): # 1000 initial populations for good statistics\n",
        "  population = make_initial_population()\n",
        "  scores = calculate_scores(population)\n",
        "  non_zero.append(np.count_nonzero(scores))\n",
        "  found.append(found_char(population,target))\n",
        "\n",
        "print(np.mean(non_zero), np.std(non_zero))\n",
        "print(np.mean(found), np.std(found))"
      ],
      "execution_count": 23,
      "outputs": [
        {
          "output_type": "stream",
          "text": [
            "76.987 4.301491717997374\n",
            "38.174 0.9130848810488541\n"
          ],
          "name": "stdout"
        }
      ]
    },
    {
      "cell_type": "code",
      "metadata": {
        "id": "rO8NLY2t0pL7",
        "colab_type": "code",
        "colab": {
          "base_uri": "https://localhost:8080/",
          "height": 34
        },
        "outputId": "74db69d1-106d-4ad8-bd25-b152bddf9199"
      },
      "source": [
        "found_char(['xo be or not to be that is the question', 'tx be or not to be that is the question'],\n",
        "           target)"
      ],
      "execution_count": 22,
      "outputs": [
        {
          "output_type": "execute_result",
          "data": {
            "text/plain": [
              "39"
            ]
          },
          "metadata": {
            "tags": []
          },
          "execution_count": 22
        }
      ]
    }
  ]
}